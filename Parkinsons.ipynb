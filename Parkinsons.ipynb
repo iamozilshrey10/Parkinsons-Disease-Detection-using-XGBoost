{
  "nbformat": 4,
  "nbformat_minor": 0,
  "metadata": {
    "colab": {
      "name": "Parkinsons.ipynb",
      "provenance": [],
      "collapsed_sections": []
    },
    "kernelspec": {
      "name": "python3",
      "display_name": "Python 3"
    }
  },
  "cells": [
    {
      "cell_type": "code",
      "metadata": {
        "id": "lg9UlQPnbi5p",
        "colab_type": "code",
        "colab": {}
      },
      "source": [
        "#Importing Modules \n",
        "\n",
        "import numpy as np\n",
        "import pandas as pd\n",
        "import os, sys \n",
        "\n",
        "from sklearn.preprocessing import MinMaxScaler \n",
        "from sklearn.model_selection import train_test_split \n",
        "from sklearn.metrics import accuracy_score\n",
        "\n",
        "from xgboost import XGBClassifier "
      ],
      "execution_count": 13,
      "outputs": []
    },
    {
      "cell_type": "code",
      "metadata": {
        "id": "nu0gxA9ycGLD",
        "colab_type": "code",
        "colab": {}
      },
      "source": [
        "#Reading the dataset \n",
        "\n",
        "data = pd.read_csv('parkinsons.data')\n",
        "#data.head()"
      ],
      "execution_count": 14,
      "outputs": []
    },
    {
      "cell_type": "code",
      "metadata": {
        "id": "yjrvaBR0cmiV",
        "colab_type": "code",
        "colab": {}
      },
      "source": [
        "#Extracting the Features \n",
        "\n",
        "feat = data.loc[:,data.columns != 'status'].values[:,1:]\n",
        "labels = data.loc[:,'status'].values \n",
        "\n",
        "#print(labels[labels==1].shape[0], labels[labels==0].shape[0])"
      ],
      "execution_count": 15,
      "outputs": []
    },
    {
      "cell_type": "code",
      "metadata": {
        "id": "EVfTv8i6dE7a",
        "colab_type": "code",
        "colab": {}
      },
      "source": [
        "#Initializing the Scaler \n",
        "\n",
        "scaler = MinMaxScaler((-1,1))\n",
        "x = scaler.fit_transform(feat)\n",
        "y = labels "
      ],
      "execution_count": 16,
      "outputs": []
    },
    {
      "cell_type": "code",
      "metadata": {
        "id": "LaqJsQ8DdVBu",
        "colab_type": "code",
        "colab": {}
      },
      "source": [
        "# Splitting the dataset into Trarining and Test Sets \n",
        "\n",
        "X_train, X_test, y_train, y_test = train_test_split(x, y, test_size = 0.2, random_state = 0)"
      ],
      "execution_count": 21,
      "outputs": []
    },
    {
      "cell_type": "code",
      "metadata": {
        "id": "ddEqrAVJdqIY",
        "colab_type": "code",
        "colab": {}
      },
      "source": [
        "#Initializing the XGBClassifier and Training the Model \n",
        "\n",
        "model = XGBClassifier()\n",
        "model.fit(X_train, y_train)"
      ],
      "execution_count": null,
      "outputs": []
    },
    {
      "cell_type": "code",
      "metadata": {
        "id": "ApmfRx6eeDi8",
        "colab_type": "code",
        "colab": {}
      },
      "source": [
        "#Predicting the values for Test Set \n",
        "\n",
        "y_pred = model.predict(X_test)"
      ],
      "execution_count": 23,
      "outputs": []
    },
    {
      "cell_type": "code",
      "metadata": {
        "id": "_dVN0xWBeMp9",
        "colab_type": "code",
        "colab": {
          "base_uri": "https://localhost:8080/",
          "height": 35
        },
        "outputId": "9b59c85a-90e9-4573-eb19-4f67f041767a"
      },
      "source": [
        "#Checking the Accuracy of the Model \n",
        "\n",
        "print(round(accuracy_score(y_test, y_pred)*100,2))"
      ],
      "execution_count": 24,
      "outputs": [
        {
          "output_type": "stream",
          "text": [
            "94.87\n"
          ],
          "name": "stdout"
        }
      ]
    }
  ]
}